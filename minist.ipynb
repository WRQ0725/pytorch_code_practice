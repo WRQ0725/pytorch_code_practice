{
 "cells": [
  {
   "cell_type": "markdown",
   "metadata": {},
   "source": [
    "# Softmax函数\n",
    "将神经网络输出值转换到0-1之间的概率值"
   ]
  },
  {
   "cell_type": "markdown",
   "metadata": {},
   "source": [
    "# MINST数据集分类任务实战"
   ]
  },
  {
   "cell_type": "code",
   "execution_count": 11,
   "metadata": {},
   "outputs": [],
   "source": [
    "import numpy as np\n",
    "import torch\n",
    "from torch import nn\n",
    "from torch import optim\n",
    "from torch.autograd import Variable\n",
    "from torchvision import datasets,transforms\n",
    "from torch.utils.data import dataloader\n",
    "import math"
   ]
  },
  {
   "cell_type": "code",
   "execution_count": 12,
   "metadata": {},
   "outputs": [],
   "source": [
    "train_data=datasets.MNIST(root='.',train=True,transform=transforms.ToTensor(),download=True)\n",
    "test_data=datasets.MNIST(root='.',train=False,transform=transforms.ToTensor(),download=True)"
   ]
  },
  {
   "cell_type": "code",
   "execution_count": 13,
   "metadata": {},
   "outputs": [],
   "source": [
    "batch_size=64 # 每次训练传入数据量\n",
    "# 装载,将全部数据通过一定方式打包成batches，每个batch里有固定数量的数据\n",
    "train_loader=dataloader.DataLoader(dataset=train_data,batch_size=batch_size,shuffle=True)\n",
    "test_loader=dataloader.DataLoader(dataset=test_data,batch_size=batch_size,shuffle=True)\n"
   ]
  },
  {
   "cell_type": "code",
   "execution_count": 14,
   "metadata": {},
   "outputs": [
    {
     "name": "stdout",
     "output_type": "stream",
     "text": [
      "torch.Size([64, 1, 28, 28])\n",
      "torch.Size([64])\n",
      "938\n"
     ]
    }
   ],
   "source": [
    "for i,data in enumerate(train_loader):\n",
    "    inputs,labels=data\n",
    "    print(inputs.shape) #数据量，通道数，单个数据数组大小\n",
    "    print(labels.shape) #标签个数\n",
    "    break\n",
    "print(len(train_loader))# 每次拿出一个装载好的batch进行处理（训练），共有938个batch"
   ]
  },
  {
   "cell_type": "code",
   "execution_count": 15,
   "metadata": {},
   "outputs": [],
   "source": [
    "# 定义网络\n",
    "class Net(nn.Module):\n",
    "    def __init__(self):\n",
    "        super(Net,self).__init__()\n",
    "        self.fc1=nn.Linear(784,10)# 784输入，10输出\n",
    "        self.softmax=nn.Softmax(dim=1) \n",
    "    def forward(self,x):\n",
    "        # 需要转换数据为二维数据\n",
    "        x=x.view(x.size()[0],-1)\n",
    "        x=self.fc1(x)\n",
    "        x=self.softmax(x)\n",
    "        return x"
   ]
  },
  {
   "cell_type": "code",
   "execution_count": 16,
   "metadata": {},
   "outputs": [],
   "source": [
    "model=Net()\n",
    "lr=0.05\n",
    "loss=nn.MSELoss()\n",
    "opt=torch.optim.SGD(model.parameters(),lr=lr)"
   ]
  },
  {
   "cell_type": "code",
   "execution_count": 17,
   "metadata": {},
   "outputs": [],
   "source": [
    "def train():\n",
    "    for i,data in enumerate(train_loader):\n",
    "        inputs,label=data\n",
    "        out=model(inputs)\n",
    "        # 转换标签输出为独热编码\n",
    "        label=label.reshape(-1,1)\n",
    "        one_hot=torch.zeros(inputs.shape[0],10).scatter(1,label,1)\n",
    "        #scatter三个参数解释：dim变换维度,index：将哪个位置变成src值；src：插入的值\n",
    "        Loss=loss(out,one_hot)# 两个参数大小要一致\n",
    "        opt.zero_grad()\n",
    "        Loss.backward()\n",
    "        opt.step()\n",
    "def test():\n",
    "    correct=0\n",
    "    for i,data in enumerate(test_loader):\n",
    "        inputs,labels=data\n",
    "        out=model(inputs)\n",
    "        _,predicted=torch.max(out,1)# max返回最大值和最大值的位置\n",
    "        # 计算召回率，准确率\n",
    "        correct += (predicted==labels).sum()\n",
    "    print(\"accuracy:{}\".format(correct.item()/len(test_data)))"
   ]
  },
  {
   "cell_type": "code",
   "execution_count": 18,
   "metadata": {},
   "outputs": [
    {
     "name": "stdout",
     "output_type": "stream",
     "text": [
      "epoch: 0\n",
      "accuracy:0.675\n",
      "epoch: 1\n",
      "accuracy:0.8125\n",
      "epoch: 2\n",
      "accuracy:0.8512\n",
      "epoch: 3\n",
      "accuracy:0.8641\n",
      "epoch: 4\n",
      "accuracy:0.8724\n",
      "epoch: 5\n",
      "accuracy:0.8773\n",
      "epoch: 6\n",
      "accuracy:0.8813\n",
      "epoch: 7\n",
      "accuracy:0.8842\n",
      "epoch: 8\n",
      "accuracy:0.8875\n",
      "epoch: 9\n",
      "accuracy:0.8893\n"
     ]
    }
   ],
   "source": [
    "for epoch in range(10):\n",
    "    print(\"epoch:\",epoch)\n",
    "    train()\n",
    "    test()"
   ]
  }
 ],
 "metadata": {
  "kernelspec": {
   "display_name": "pytorch",
   "language": "python",
   "name": "python3"
  },
  "language_info": {
   "codemirror_mode": {
    "name": "ipython",
    "version": 3
   },
   "file_extension": ".py",
   "mimetype": "text/x-python",
   "name": "python",
   "nbconvert_exporter": "python",
   "pygments_lexer": "ipython3",
   "version": "3.11.7"
  }
 },
 "nbformat": 4,
 "nbformat_minor": 2
}
